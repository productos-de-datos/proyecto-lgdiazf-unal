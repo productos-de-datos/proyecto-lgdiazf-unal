{
 "cells": [
  {
   "cell_type": "code",
   "execution_count": 1,
   "id": "02bf4028-1e56-4848-8a32-199348f1d713",
   "metadata": {},
   "outputs": [],
   "source": [
    "import pandas as pd\n",
    "import matplotlib.pyplot as plt"
   ]
  },
  {
   "cell_type": "code",
   "execution_count": 6,
   "id": "ab889010-767a-4237-8dd1-7384fbdda843",
   "metadata": {},
   "outputs": [
    {
     "name": "stdout",
     "output_type": "stream",
     "text": [
      "rm -rf data_lake\n",
      "python3 src/data/create_data_lake.py\n",
      "python3 pipeline.py\n",
      "DEBUG: Checking if TaskE() is complete\n",
      "DEBUG: Checking if TaskC() is complete\n",
      "DEBUG: Checking if TaskD() is complete\n",
      "INFO: Informed scheduler that task   TaskE__99914b932b   has status   PENDING\n",
      "INFO: Informed scheduler that task   TaskD__99914b932b   has status   PENDING\n",
      "DEBUG: Checking if TaskB() is complete\n",
      "INFO: Informed scheduler that task   TaskC__99914b932b   has status   PENDING\n",
      "DEBUG: Checking if TaskA() is complete\n",
      "INFO: Informed scheduler that task   TaskB__99914b932b   has status   PENDING\n",
      "INFO: Informed scheduler that task   TaskA__99914b932b   has status   PENDING\n",
      "INFO: Done scheduling tasks\n",
      "INFO: Running Worker with 1 processes\n",
      "DEBUG: Asking scheduler for work...\n",
      "DEBUG: Pending tasks: 5\n",
      "INFO: [pid 1162] Worker Worker(salt=520066179, workers=1, host=54ed8e0d880b, username=jovyan, pid=1162) running   TaskA()\n",
      "INFO: [pid 1162] Worker Worker(salt=520066179, workers=1, host=54ed8e0d880b, username=jovyan, pid=1162) done      TaskA()\n",
      "DEBUG: 1 running tasks, waiting for next task to finish\n",
      "INFO: Informed scheduler that task   TaskA__99914b932b   has status   DONE\n",
      "DEBUG: Asking scheduler for work...\n",
      "DEBUG: Pending tasks: 4\n",
      "INFO: [pid 1162] Worker Worker(salt=520066179, workers=1, host=54ed8e0d880b, username=jovyan, pid=1162) running   TaskB()\n",
      "INFO: [pid 1162] Worker Worker(salt=520066179, workers=1, host=54ed8e0d880b, username=jovyan, pid=1162) done      TaskB()\n",
      "DEBUG: 1 running tasks, waiting for next task to finish\n",
      "INFO: Informed scheduler that task   TaskB__99914b932b   has status   DONE\n",
      "DEBUG: Asking scheduler for work...\n",
      "DEBUG: Pending tasks: 3\n",
      "INFO: [pid 1162] Worker Worker(salt=520066179, workers=1, host=54ed8e0d880b, username=jovyan, pid=1162) running   TaskC()\n",
      "INFO: [pid 1162] Worker Worker(salt=520066179, workers=1, host=54ed8e0d880b, username=jovyan, pid=1162) done      TaskC()\n",
      "DEBUG: 1 running tasks, waiting for next task to finish\n",
      "INFO: Informed scheduler that task   TaskC__99914b932b   has status   DONE\n",
      "DEBUG: Asking scheduler for work...\n",
      "DEBUG: Pending tasks: 2\n",
      "INFO: [pid 1162] Worker Worker(salt=520066179, workers=1, host=54ed8e0d880b, username=jovyan, pid=1162) running   TaskD()\n",
      "INFO: [pid 1162] Worker Worker(salt=520066179, workers=1, host=54ed8e0d880b, username=jovyan, pid=1162) done      TaskD()\n",
      "DEBUG: 1 running tasks, waiting for next task to finish\n",
      "INFO: Informed scheduler that task   TaskD__99914b932b   has status   DONE\n",
      "DEBUG: Asking scheduler for work...\n",
      "DEBUG: Pending tasks: 1\n",
      "INFO: [pid 1162] Worker Worker(salt=520066179, workers=1, host=54ed8e0d880b, username=jovyan, pid=1162) running   TaskE()\n",
      "INFO: [pid 1162] Worker Worker(salt=520066179, workers=1, host=54ed8e0d880b, username=jovyan, pid=1162) done      TaskE()\n",
      "DEBUG: 1 running tasks, waiting for next task to finish\n",
      "INFO: Informed scheduler that task   TaskE__99914b932b   has status   DONE\n",
      "DEBUG: Asking scheduler for work...\n",
      "DEBUG: Done\n",
      "DEBUG: There are no more tasks to run at this time\n",
      "INFO: Worker Worker(salt=520066179, workers=1, host=54ed8e0d880b, username=jovyan, pid=1162) was stopped. Shutting down Keep-Alive thread\n",
      "INFO: \n",
      "===== Luigi Execution Summary =====\n",
      "\n",
      "Scheduled 5 tasks of which:\n",
      "* 5 ran successfully:\n",
      "    - 1 TaskA()\n",
      "    - 1 TaskB()\n",
      "    - 1 TaskC()\n",
      "    - 1 TaskD()\n",
      "    - 1 TaskE()\n",
      "\n",
      "This progress looks :) because there were no failed tasks or missing dependencies\n",
      "\n",
      "===== Luigi Execution Summary =====\n",
      "\n"
     ]
    }
   ],
   "source": [
    "!cd .. && make pipeline"
   ]
  },
  {
   "cell_type": "code",
   "execution_count": 7,
   "id": "b8c98fa0-9593-42a1-b620-a39b01ae0525",
   "metadata": {},
   "outputs": [
    {
     "name": "stdout",
     "output_type": "stream",
     "text": [
      "data_lake  notebooks\tREADME.md     TaskB.output  TaskE.output\n",
      "grader.py  pipeline.py\tsrc\t      TaskC.output\n",
      "Makefile   __pycache__\tTaskA.output  TaskD.output\n"
     ]
    }
   ],
   "source": [
    "!cd .. && ls"
   ]
  },
  {
   "cell_type": "code",
   "execution_count": 8,
   "id": "21f0e55c-0945-404f-8a0e-3528880248bb",
   "metadata": {},
   "outputs": [],
   "source": [
    "archivo = \"../data_lake/business/precios-diarios.csv\"\n",
    "df = pd.read_csv(archivo)"
   ]
  },
  {
   "cell_type": "code",
   "execution_count": 9,
   "id": "5b33b34f-b403-4969-91a6-276c8f8c7cf2",
   "metadata": {},
   "outputs": [
    {
     "data": {
      "text/html": [
       "<div>\n",
       "<style scoped>\n",
       "    .dataframe tbody tr th:only-of-type {\n",
       "        vertical-align: middle;\n",
       "    }\n",
       "\n",
       "    .dataframe tbody tr th {\n",
       "        vertical-align: top;\n",
       "    }\n",
       "\n",
       "    .dataframe thead th {\n",
       "        text-align: right;\n",
       "    }\n",
       "</style>\n",
       "<table border=\"1\" class=\"dataframe\">\n",
       "  <thead>\n",
       "    <tr style=\"text-align: right;\">\n",
       "      <th></th>\n",
       "      <th>fecha</th>\n",
       "      <th>precio</th>\n",
       "    </tr>\n",
       "  </thead>\n",
       "  <tbody>\n",
       "    <tr>\n",
       "      <th>0</th>\n",
       "      <td>1995-07-20</td>\n",
       "      <td>1.409435</td>\n",
       "    </tr>\n",
       "    <tr>\n",
       "      <th>1</th>\n",
       "      <td>1995-07-21</td>\n",
       "      <td>4.924333</td>\n",
       "    </tr>\n",
       "    <tr>\n",
       "      <th>2</th>\n",
       "      <td>1995-07-22</td>\n",
       "      <td>1.269500</td>\n",
       "    </tr>\n",
       "    <tr>\n",
       "      <th>3</th>\n",
       "      <td>1995-07-23</td>\n",
       "      <td>0.953083</td>\n",
       "    </tr>\n",
       "    <tr>\n",
       "      <th>4</th>\n",
       "      <td>1995-07-24</td>\n",
       "      <td>4.305917</td>\n",
       "    </tr>\n",
       "  </tbody>\n",
       "</table>\n",
       "</div>"
      ],
      "text/plain": [
       "        fecha    precio\n",
       "0  1995-07-20  1.409435\n",
       "1  1995-07-21  4.924333\n",
       "2  1995-07-22  1.269500\n",
       "3  1995-07-23  0.953083\n",
       "4  1995-07-24  4.305917"
      ]
     },
     "execution_count": 9,
     "metadata": {},
     "output_type": "execute_result"
    }
   ],
   "source": [
    "df.head()"
   ]
  },
  {
   "cell_type": "code",
   "execution_count": 10,
   "id": "886b526b-9a89-4ca5-99f6-d2e7081f9de0",
   "metadata": {},
   "outputs": [
    {
     "data": {
      "image/png": "[encoded data removed]",
      "text/plain": [
       "<Figure size 432x288 with 1 Axes>"
      ]
     },
     "metadata": {
      "needs_background": "light"
     },
     "output_type": "display_data"
    }
   ],
   "source": [
    "df.plot.line(x=\"fecha\",y=\"precio\")\n",
    "plt.savefig(\"imagenes/data.png\")"
   ]
  }
 ],
 "metadata": {
  "kernelspec": {
   "display_name": "Python 3 (ipykernel)",
   "language": "python",
   "name": "python3"
  },
  "language_info": {
   "codemirror_mode": {
    "name": "ipython",
    "version": 3
   },
   "file_extension": ".py",
   "mimetype": "text/x-python",
   "name": "python",
   "nbconvert_exporter": "python",
   "pygments_lexer": "ipython3",
   "version": "3.10.5"
  }
 },
 "nbformat": 4,
 "nbformat_minor": 5
}
